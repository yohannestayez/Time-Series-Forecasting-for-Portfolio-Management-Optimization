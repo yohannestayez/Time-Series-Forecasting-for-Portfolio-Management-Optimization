{
 "cells": [
  {
   "cell_type": "markdown",
   "metadata": {},
   "source": [
    "### 1. Setup and Import Libraries"
   ]
  },
  {
   "cell_type": "code",
   "execution_count": null,
   "metadata": {},
   "outputs": [],
   "source": [
    "# Import necessary libraries\n",
    "import pandas as pd\n",
    "import numpy as np\n",
    "import matplotlib.pyplot as plt\n",
    "from statsmodels.tsa.arima.model import ARIMA\n",
    "from statsmodels.tsa.statespace.sarimax import SARIMAX\n",
    "from pmdarima import auto_arima\n",
    "from sklearn.metrics import mean_absolute_error, mean_squared_error\n",
    "import torch\n",
    "import torch.nn as nn\n",
    "from torch.utils.data import DataLoader, TensorDataset\n",
    "from sklearn.preprocessing import MinMaxScaler\n",
    "import os\n"
   ]
  },
  {
   "cell_type": "code",
   "execution_count": null,
   "metadata": {},
   "outputs": [],
   "source": [
    "# Define paths to local files\n",
    "file_paths = {\n",
    "    \"TSLA\": \"data/TSLA_proccessed_data.csv\",\n",
    "    \"SPY\": \"data/SPY_proccessed_data.csv\",\n",
    "    \"BND\": \"data/BND_proccessed_data.csv\"\n",
    "}\n",
    "\n",
    "# Load data function\n",
    "def load_data(file_path):\n",
    "    return pd.read_csv(file_path, parse_dates=['Date'], index_col='Date')\n",
    "\n",
    "# Load all datasets into a dictionary\n",
    "data_dict = {ticker: load_data(path) for ticker, path in file_paths.items()}\n"
   ]
  }
 ],
 "metadata": {
  "kernelspec": {
   "display_name": "jojo",
   "language": "python",
   "name": "python3"
  },
  "language_info": {
   "name": "python",
   "version": "3.9.20"
  }
 },
 "nbformat": 4,
 "nbformat_minor": 2
}
